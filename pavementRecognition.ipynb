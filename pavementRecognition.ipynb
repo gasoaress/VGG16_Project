{
  "cells": [
    {
      "cell_type": "markdown",
      "metadata": {
        "id": "view-in-github",
        "colab_type": "text"
      },
      "source": [
        "<a href=\"https://colab.research.google.com/github/gasoaress/VGG16_Project/blob/main/pavementRecognition.ipynb\" target=\"_parent\"><img src=\"https://colab.research.google.com/assets/colab-badge.svg\" alt=\"Open In Colab\"/></a>"
      ]
    },
    {
      "cell_type": "code",
      "execution_count": null,
      "metadata": {
        "colab": {
          "base_uri": "https://localhost:8080/"
        },
        "id": "EN4Rlmz4hx2j",
        "outputId": "9953a956-c140-4a7d-9a5f-3d6949508602"
      },
      "outputs": [
        {
          "output_type": "stream",
          "name": "stdout",
          "text": [
            "Found 540 images belonging to 3 classes.\n",
            "Found 540 images belonging to 3 classes.\n",
            "Epoch 1/5\n",
            "16/16 [==============================] - 594s 38s/step - loss: 2.7603 - accuracy: 0.6752 - val_loss: 0.5818 - val_accuracy: 0.8613\n",
            "Epoch 2/5\n",
            "16/16 [==============================] - ETA: 0s - loss: 0.4327 - accuracy: 0.8740 "
          ]
        }
      ],
      "source": [
        "import keras\n",
        "from keras.models import Sequential\n",
        "from keras.layers import Conv2D, MaxPool2D, Flatten, Dense\n",
        "from keras.preprocessing.image import ImageDataGenerator\n",
        "import numpy as np\n",
        "\n",
        "# Preparação dos dados\n",
        "trdata = ImageDataGenerator(rescale=1./255)  # Normalizando os dados\n",
        "traindata = trdata.flow_from_directory(directory='/content/Img/Train', target_size=(224,224), class_mode='categorical')\n",
        "tsdata = ImageDataGenerator(rescale=1./255)  # Normalizando os dados\n",
        "testdata = tsdata.flow_from_directory(directory='/content/Img/Test', target_size=(224,224), class_mode='categorical')\n",
        "\n",
        "# Modelo VGG16\n",
        "VGG = keras.applications.VGG16(input_shape=(224,224,3), include_top=False, weights='imagenet')\n",
        "VGG.trainable = False\n",
        "\n",
        "num_classes = len(traindata.class_indices)  # Número de classes\n",
        "\n",
        "model = Sequential([\n",
        "    VGG,\n",
        "    Flatten(),\n",
        "    Dense(units=256, activation=\"relu\"),\n",
        "    Dense(units=num_classes, activation=\"softmax\")  # Mudança para softmax para múltiplas classes\n",
        "])\n",
        "\n",
        "model.compile(optimizer='adam', loss=keras.losses.categorical_crossentropy, metrics=['accuracy'])\n",
        "\n",
        "# Treinamento do modelo\n",
        "hist = model.fit(\n",
        "    traindata,\n",
        "    steps_per_epoch=traindata.samples // traindata.batch_size,\n",
        "    validation_data=testdata,\n",
        "    validation_steps=testdata.samples // testdata.batch_size,\n",
        "    epochs=5\n",
        ")\n",
        "\n",
        "model.save('vggclf.h5')\n",
        "\n",
        "# Verificar as chaves no histórico do treinamento\n",
        "print(hist.history.keys())\n",
        "\n",
        "# Visualização do treinamento\n",
        "import matplotlib.pyplot as plt\n",
        "\n",
        "plt.plot(hist.history[\"accuracy\"])\n",
        "if \"val_accuracy\" in hist.history:\n",
        "    plt.plot(hist.history[\"val_accuracy\"])\n",
        "plt.plot(hist.history['loss'])\n",
        "if \"val_loss\" in hist.history:\n",
        "    plt.plot(hist.history['val_loss'])\n",
        "\n",
        "plt.title(\"Model Accuracy\")\n",
        "plt.ylabel(\"Accuracy\")\n",
        "plt.xlabel(\"Epoch\")\n",
        "legend_labels = [\"Accuracy\", \"Loss\"]\n",
        "if \"val_accuracy\" in hist.history:\n",
        "    legend_labels.append(\"Validation Accuracy\")\n",
        "if \"val_loss\" in hist.history:\n",
        "    legend_labels.append(\"Validation Loss\")\n",
        "plt.legend(legend_labels)\n",
        "plt.show()\n",
        "\n",
        "# Predição\n",
        "from keras.preprocessing import image\n",
        "img = image.load_img(\"/content/crackedGoogle.jpg\", target_size=(224,224))\n",
        "img = np.asarray(img) / 255.0  # Normalizando a imagem de teste\n",
        "plt.imshow(img)\n",
        "img = np.expand_dims(img, axis=0)\n",
        "\n",
        "from keras.models import load_model\n",
        "saved_model = load_model(\"vggclf.h5\")\n",
        "output = saved_model.predict(img)\n",
        "\n",
        "# Imprimir as probabilidades para cada classe\n",
        "print(\"Probabilidades das Classes:\", output[0])\n",
        "predicted_class = np.argmax(output[0])\n",
        "class_labels = list(traindata.class_indices.keys())\n",
        "print(f\"A imagem pertence à classe: {class_labels[predicted_class]}\")\n"
      ]
    }
  ],
  "metadata": {
    "colab": {
      "provenance": [],
      "authorship_tag": "ABX9TyP+pZW+j6rp44Z2V/ombMdt",
      "include_colab_link": true
    },
    "kernelspec": {
      "display_name": "Python 3",
      "name": "python3"
    },
    "language_info": {
      "name": "python"
    }
  },
  "nbformat": 4,
  "nbformat_minor": 0
}